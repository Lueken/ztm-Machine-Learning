{
 "cells": [
  {
   "cell_type": "markdown",
   "id": "a5886238-ed48-4c32-8390-ff6881b2f92f",
   "metadata": {},
   "source": [
    "# Data from URLS"
   ]
  },
  {
   "cell_type": "markdown",
   "id": "8df15db8-8854-43b2-b739-8b9b6723785d",
   "metadata": {},
   "source": [
    "In some of the lectures, you'll notice <span style=\"color: #ff0000;\">.csv</span> files being imported from file using something like:\n",
    "\n",
    "<code style=\"color: #ff3366;\">heart_disease = pd.read_csv(\"data/heart-disease.csv\")</code>\n",
    "\n",
    "This is helpful if you have the data downloaded to your computer or in the same directory as your notebook.\n",
    "\n",
    "But if you don't, another great feature of pandas is being able to import <span style=\"color: #ff0000;\">.csv</span> files directly from a URL.\n",
    "\n",
    "For example, for the <span style=\"color: #ff3366;\">heart-disease.csv</span> file, using the <span style=\"color: #ff3366;\">read_csv()</span> function you can directly import it using the URL from the course GitHub repo:\n",
    "\n",
    "<code style=\"color: #ff3366;\">heart_disease = pd.read_csv(\"https://raw.githubusercontent.com/mrdbourke/zero-to-mastery-ml/master/data/heart-disease.csv\")</span>\n",
    "\n",
    "**Note**\n",
    ": If you're using a link from GitHub, make sure it's in the \"raw\" format, by clicking the raw button.\n",
    "\n",
    "\n",
    "https://github.com/mrdbourke/zero-to-mastery-ml"
   ]
  },
  {
   "cell_type": "markdown",
   "id": "428ee1f8-a2a3-4bcd-aaef-d9e99d0f664f",
   "metadata": {},
   "source": [
    "![](https://cdn.fs.teachablecdn.com/ADNupMnWyR7kCWRvm76Laz/https://www.filepicker.io/api/file/EbqpcS2aSyaL2CDMLYec)"
   ]
  },
  {
   "cell_type": "code",
   "execution_count": null,
   "id": "606539fb-c772-4212-8af1-9102eac7933b",
   "metadata": {},
   "outputs": [],
   "source": []
  }
 ],
 "metadata": {
  "kernelspec": {
   "display_name": "Python 3 (ipykernel)",
   "language": "python",
   "name": "python3"
  },
  "language_info": {
   "codemirror_mode": {
    "name": "ipython",
    "version": 3
   },
   "file_extension": ".py",
   "mimetype": "text/x-python",
   "name": "python",
   "nbconvert_exporter": "python",
   "pygments_lexer": "ipython3",
   "version": "3.11.11"
  }
 },
 "nbformat": 4,
 "nbformat_minor": 5
}
